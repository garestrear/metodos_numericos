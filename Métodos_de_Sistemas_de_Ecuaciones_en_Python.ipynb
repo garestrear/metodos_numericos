{
  "nbformat": 4,
  "nbformat_minor": 0,
  "metadata": {
    "colab": {
      "name": "Métodos de Sistemas de Ecuaciones en Python.ipynb",
      "provenance": [],
      "include_colab_link": true
    },
    "kernelspec": {
      "name": "python3",
      "display_name": "Python 3"
    },
    "language_info": {
      "name": "python"
    }
  },
  "cells": [
    {
      "cell_type": "markdown",
      "metadata": {
        "id": "view-in-github",
        "colab_type": "text"
      },
      "source": [
        "<a href=\"https://colab.research.google.com/github/garestrear/metodos_numericos/blob/main/M%C3%A9todos_de_Sistemas_de_Ecuaciones_en_Python.ipynb\" target=\"_parent\"><img src=\"https://colab.research.google.com/assets/colab-badge.svg\" alt=\"Open In Colab\"/></a>"
      ]
    },
    {
      "cell_type": "markdown",
      "metadata": {
        "id": "dyYUc21ferU2"
      },
      "source": [
        "#<h1><center> UNIVERSIDAD NACIONAL DE COLOMBIA </center></h1>\n",
        "# <h1><center>SEDE MEDELLÍN</center></h1>\n",
        "# <h1><center>MÉTODOS NUMÉRICOS</center></h1>\n",
        "\n",
        "## CAPÍTULO 2. SOLUCIÓN NUMÉRICA DE SISTEMAS DE ECUACIONES LINEALES Y NO LINEALES\n",
        "\n",
        "En este trabajo encontrarás los siguientes métodos de búsqueda de soluciones de sistemas de ecuaciones lineales y no lineales:\n",
        "\n",
        "\n",
        "1.   Método de Jacobi\n",
        "2.   Método Gauss - Seidel\n",
        "3.   Método de SOR\n",
        "4.   Método de Newton para sistemas de ecuaciones\n",
        "\n",
        "En cada método se realiza un breve resumen de los aspectos teóricos, se realiza la implementación y se da un ejemplo de su uso e interpretación.\n",
        "\n",
        "______________________________________________________________________\n",
        "Desarrollado por:  \n",
        "Javier Danilo Castro Faccetti  \n",
        "Abril 2021.\n",
        "\n"
      ]
    },
    {
      "cell_type": "markdown",
      "metadata": {
        "id": "fQqvrlhlRS6B"
      },
      "source": [
        "**Importación de Librerías**\n",
        "\n",
        "Se importa la librería *NumPy*, para facilitar los cálculos con funciones matemáticas, vectores y matrices."
      ]
    },
    {
      "cell_type": "code",
      "metadata": {
        "id": "4iyQ0sFZRPeo"
      },
      "source": [
        "import numpy as np"
      ],
      "execution_count": null,
      "outputs": []
    },
    {
      "cell_type": "markdown",
      "metadata": {
        "id": "1bqCn6YZRaSa"
      },
      "source": [
        "**Método de Jacobi**\n",
        "\n",
        "Este método busca la convergencia de una sucesión que busca la solución del sistema $Ax=b$ de manera iterativa, mediante la siguiente expresión en forma matricial:\n",
        "\n",
        "$x^{(k)}=D^{-1}(L+U)+D^{-1}b$\n",
        "\n",
        "Donde $x^{(k)}$ y $x^{(k-1)}$ representan las aproximaciones a la solución en su k-ésima y anterior a la k-ésima iteración, respectivamente, $D$ una matriz diagonal, $L$ una triangular inferior y $U$ una triangular superior.\n",
        "\n",
        "Se ha programado el siguiente algoritmo, que recibe como entrada el número de incógnitas del sistema $n$, la matriz $A$, el vector $b$, la aproximación inicial $x^{(0)}$, la tolerancia $tol$ y el número máximo de iteraciones $maxiter$; y devuelve la aproximación a la solución $x$, en un *array*, la tolerancia estipulada $tol$ y el número de iteraciones empleadas $k$."
      ]
    },
    {
      "cell_type": "code",
      "metadata": {
        "id": "OWL2kLfXYpEM"
      },
      "source": [
        "def jacobi(n,A,b,x0,tol,maxiter):\n",
        "  k=0\n",
        "  x=np.zeros(n)\n",
        "  while k<maxiter:\n",
        "    for i in range(0,n,1):\n",
        "      sum=0\n",
        "      for j in range(0,n,1):\n",
        "        if i!=j:\n",
        "          sum=sum+A[i,j]*x0[j]\n",
        "      x[i]=(b[i]-sum)/A[i,i]\n",
        "    k=k+1\n",
        "    if np.linalg.norm(x-x0)/np.linalg.norm(x)<tol:\n",
        "      break\n",
        "    for i in range (0,n,1):\n",
        "      x0[i]=x[i]\n",
        "  return x,tol,k"
      ],
      "execution_count": null,
      "outputs": []
    },
    {
      "cell_type": "markdown",
      "metadata": {
        "id": "HbEakESZRIQf"
      },
      "source": [
        "**Método de Gauss-Seidel**\n",
        "\n",
        "Este método busca la convergencia de una sucesión que busca la solución del sistema $Ax=b$ de manera iterativa, mediante la siguiente expresión en forma matricial:\n",
        "\n",
        "$x^{(k)}=(D-L)^{-1}Ux^{(k-1)}+(D-L)^{-1}b$\n",
        "\n",
        "Donde $x^{(k)}$ y $x^{(k-1)}$ representan las aproximaciones a la solución en su k-ésima y anterior a la k-ésima iteración, respectivamente, $D$ una matriz diagonal, $L$ una triangular inferior y $U$ una triangular superior.\n",
        "\n",
        "Se ha programado el siguiente algoritmo, que recibe como entrada el número de incógnitas del sistema $n$, la matriz $A$, el vector $b$, la aproximación inicial $x^{(0)}$, la tolerancia $tol$ y el número máximo de iteraciones $maxiter$; y devuelve la aproximación a la solución $x$, en un *array*, la tolerancia estipulada $tol$ y el número de iteraciones empleadas $k$."
      ]
    },
    {
      "cell_type": "code",
      "metadata": {
        "id": "Yu7m4B-jROtJ"
      },
      "source": [
        "def gauss_seidel(n,A,b,x0,tol,maxiter):\n",
        "  k=0\n",
        "  x=np.zeros(n)\n",
        "  while k<maxiter:\n",
        "    for i in range(0,n,1):\n",
        "      sum1=0\n",
        "      sum2=0\n",
        "      for j in range(0,i,1):\n",
        "        sum1=sum1+A[i,j]*x[j]\n",
        "      for j in range(i+1,n,1):\n",
        "        sum2=sum2+A[i,j]*x0[j]\n",
        "      x[i]=(b[i]-sum1-sum2)/A[i,i]\n",
        "    k=k+1\n",
        "    if np.linalg.norm(x-x0)/np.linalg.norm(x)<tol:\n",
        "      break\n",
        "    for i in range (0,n,1):\n",
        "      x0[i]=x[i]\n",
        "  return x,tol,k"
      ],
      "execution_count": null,
      "outputs": []
    },
    {
      "cell_type": "markdown",
      "metadata": {
        "id": "8b3oN0NudWYT"
      },
      "source": [
        "**Método SOR**\n",
        "\n",
        "Este método busca la convergencia de una sucesión que busca la solución del sistema $Ax=b$ de manera iterativa, mediante la siguiente expresión en forma matricial:\n",
        "\n",
        "$x^{(k)}=(D-wL)^{-1}[(1-w)D+wU]x^{(k-1)}+w(D-wL)^{-1}b$\n",
        "\n",
        "Donde $x^{(k)}$ y $x^{(k-1)}$ representan las aproximaciones a la solución en su k-ésima y anterior a la k-ésima iteración, respectivamente, $D$ una matriz diagonal, $L$ una triangular inferior, $U$ una triangular superior y $w$ un parámetro de relajación.\n",
        "\n",
        "Este método busca acelerar la convergencia de dicha sucesión utilizando dicho parámetro de relajación $w$ y la anterior expresión matricial del sistema, tratando de minimizar el radio espectral de la matriz de iteración.\n",
        "\n",
        "Se ha programado el siguiente algoritmo, que recibe como entrada el número de incógnitas del sistema $n$, la matriz $A$, el vector $b$, la aproximación inicial $x^{(0)}$, la tolerancia $tol$ y el número máximo de iteraciones $maxiter$; y devuelve la aproximación a la solución $x$, en un *array*, la tolerancia estipulada $tol$ y el número de iteraciones empleadas $k$."
      ]
    },
    {
      "cell_type": "code",
      "metadata": {
        "id": "DyHVy73pdZvo"
      },
      "source": [
        "def sor(n,A,b,x0,w,tol,maxiter):\n",
        "  k=0\n",
        "  x=np.zeros(n)\n",
        "  while k<maxiter:\n",
        "    for i in range(0,n,1):\n",
        "      sum1=0\n",
        "      sum2=0\n",
        "      for j in range(0,i,1):\n",
        "        sum1=sum1+A[i,j]*x[j]\n",
        "      for j in range(i+1,n,1):\n",
        "        sum2=sum2+A[i,j]*x0[j]\n",
        "      x[i]=(1-w)*x0[i]+(1/A[i,i])*(w*(b[i]-sum1-sum2))\n",
        "    k=k+1\n",
        "    if np.linalg.norm(x-x0)/np.linalg.norm(x)<tol:\n",
        "      break\n",
        "    for i in range (0,n,1):\n",
        "      x0[i]=x[i]\n",
        "  return x,tol,k"
      ],
      "execution_count": null,
      "outputs": []
    },
    {
      "cell_type": "markdown",
      "metadata": {
        "id": "nopJk81D-RuO"
      },
      "source": [
        "**Ejemplo de Sistemas de Ecuaciones Lineales**\n",
        "\n",
        "Se tiene el siguiente sistema de ecuaciones:\n",
        "\n",
        "$Ax=\\begin{bmatrix}\n",
        "4 & 3 & 0\\\\\n",
        "3 & 4 & -1\\\\\n",
        "0 & -1 & 4\\\\ \n",
        "\\end{bmatrix}\\begin{bmatrix}x_{1}\\\\ x_{2}\\\\ x_{3}\\end{bmatrix}$, $b=\\begin{bmatrix}24\\\\ 30\\\\ -24\\\\\\end{bmatrix}$\n",
        "\n",
        "Utilizaremos los algoritmos de los métodos de Jacobi y Gauss-Seidel para obtener aproximaciones con una tolerancia de $1e-03$, con aproximación inicial $x^{(0)}=\\begin{bmatrix}1\\\\ 1\\\\ 1\\end{bmatrix}$.\n"
      ]
    },
    {
      "cell_type": "code",
      "metadata": {
        "colab": {
          "base_uri": "https://localhost:8080/"
        },
        "id": "wwiwXQkvC3mg",
        "outputId": "af2dbf0e-8458-41d9-f783-11392ea2707e"
      },
      "source": [
        "jacobi(3,np.matrix('4 3 0; 3 4 -1; 0 -1 4'),np.array([24, 30, -24]),np.ones(3),10**-3,100)"
      ],
      "execution_count": null,
      "outputs": [
        {
          "output_type": "execute_result",
          "data": {
            "text/plain": [
              "(array([2.998, 3.998, -4.999]), 0.001, 32)"
            ]
          },
          "metadata": {
            "tags": []
          },
          "execution_count": 67
        }
      ]
    },
    {
      "cell_type": "code",
      "metadata": {
        "colab": {
          "base_uri": "https://localhost:8080/"
        },
        "id": "etRqUT5zDbEx",
        "outputId": "d70cf309-5edc-4551-c490-1c696c3150f9"
      },
      "source": [
        "gauss_seidel(3,np.matrix('4 3 0; 3 4 -1; 0 -1 4'),np.array([24, 30, -24]),np.ones(3),10**-3,100)"
      ],
      "execution_count": null,
      "outputs": [
        {
          "output_type": "execute_result",
          "data": {
            "text/plain": [
              "(array([3.008, 3.993, -5.002]), 0.001, 8)"
            ]
          },
          "metadata": {
            "tags": []
          },
          "execution_count": 68
        }
      ]
    },
    {
      "cell_type": "markdown",
      "metadata": {
        "id": "Iso4zymcD0KA"
      },
      "source": [
        "Vemos que la mejora propuesta en la sucesión de Gauss-Seidel provee una convergencia más rápida en el método (resuelve el ejemplo en 8 iteraciones, mientras que el de Jacobi emplea 32). Ahora, para obtener un parámetro $w$ para el método de SOR, empleamos la siguiente fórmula:\n",
        "\n",
        "$w=\\frac{2}{1-\\sqrt{1+[\\rho(T_{j})]^{2}}}$\n",
        "\n",
        "Donde $T_{j}$ es $(D)^{-1}(L+U)$, es decir, la matriz de iteración del método de Jacobi."
      ]
    },
    {
      "cell_type": "code",
      "metadata": {
        "colab": {
          "base_uri": "https://localhost:8080/"
        },
        "id": "KpJOjnASSoFB",
        "outputId": "18e79b46-279e-4a9f-c706-2356701dc453"
      },
      "source": [
        "#Cálculo de Tj\n",
        "\n",
        "A=np.matrix('4 3 0; 3 4 -1; 0 -1 4')\n",
        "D=np.diag(np.diag(A))\n",
        "L=D-np.tril(A)\n",
        "U=D-np.triu(A)\n",
        "Tj=np.matmul(np.linalg.inv(D),(L+U))\n",
        "eigenv=np.linalg.eigvals(Tj)\n",
        "\n",
        "#Radio espectral\n",
        "\n",
        "rho=np.amax(np.absolute(eigenv))\n",
        "\n",
        "#Cálculo de w\n",
        "\n",
        "w=2/(1+(1-rho**2)**0.5)\n",
        "w"
      ],
      "execution_count": null,
      "outputs": [
        {
          "output_type": "execute_result",
          "data": {
            "text/plain": [
              "1.2404082057734578"
            ]
          },
          "metadata": {
            "tags": []
          },
          "execution_count": 107
        }
      ]
    },
    {
      "cell_type": "markdown",
      "metadata": {
        "id": "Gev2sMfbTBaV"
      },
      "source": [
        "Con $w$ calculado, utilizamos el método de SOR."
      ]
    },
    {
      "cell_type": "code",
      "metadata": {
        "colab": {
          "base_uri": "https://localhost:8080/"
        },
        "id": "nPEte47_TGUu",
        "outputId": "97880a7c-4cc9-41b8-dc7a-fb8688a43a13"
      },
      "source": [
        "sor(3,np.matrix('4 3 0; 3 4 -1; 0 -1 4'),np.array([24, 30, -24]),np.ones(3),w,10**-3,100)"
      ],
      "execution_count": null,
      "outputs": [
        {
          "output_type": "execute_result",
          "data": {
            "text/plain": [
              "(array([3.000, 4.000, -5.000]), 0.001, 7)"
            ]
          },
          "metadata": {
            "tags": []
          },
          "execution_count": 109
        }
      ]
    },
    {
      "cell_type": "markdown",
      "metadata": {
        "id": "ZrVnF11wTQ6N"
      },
      "source": [
        "El método SOR nos da la aproximación más rápida que los otros dos métodos, al trabajar con la factorización matricial y el parámetro de relajación más óptimo."
      ]
    },
    {
      "cell_type": "markdown",
      "metadata": {
        "id": "oD4kSzqz85l3"
      },
      "source": [
        "**Método de Newton Para Sistemas No Lineales**\n",
        "\n",
        "Este método es el caso n-dimensional del método de Newton para la búsqueda de raíces en el plano, y se vale de una aproximación inicial lo suficientemente precisa para converger cuadráticamente. Es la expresión algorítmica del siguiente sistema matricial:\n",
        "\n",
        "$x^{(k)}=x^{(k-1)}-J(x^{(k-1)})^{-1}F(x^{(k-1)})$\n",
        "\n",
        "Donde $x^{(k)}$ y $x^{(k-1)}$ son las aproximaciones $k$ y $k-1$ a la solución del sistema $F(x)=0$ y $J$ es la matriz jacobiana de dicho sistema.\n",
        "\n",
        "Se han programado las siguientes funciones que representan dicho método: una principal, denominado *newton*, que toma como valores de entrada el número de incógnitas $n$, la aproximación inicial a la solución $x$, la tolerancia deseada $tol$ y un número máximo de iteraciones $maxiter$, y tiene como salida la aproximación a la solución del sistema $x$, la tolerancia $tol$ y el número de iteraciones realizadas $k$. Esta función (*newton*) utiliza dos funciones auxiliares: *newton_system* y *jacobian*, que toman como argumento la aproximación inicial a la solución $x$ y devuelven un *array* y una matriz con la evaluación del sistema $F$ en dicha aproximación, respectivamente."
      ]
    },
    {
      "cell_type": "code",
      "metadata": {
        "id": "439xCZluavEk"
      },
      "source": [
        "def newton(n,x,tol,maxiter):\n",
        "  k=0\n",
        "  while k<maxiter:\n",
        "    F=newton_system(x)\n",
        "    J=jacobian(x)\n",
        "    y=np.linalg.solve(J,-F)\n",
        "    x=x+y\n",
        "    k=k+1\n",
        "    if np.linalg.norm(y)<tol:\n",
        "      break\n",
        "  return x,tol,k"
      ],
      "execution_count": null,
      "outputs": []
    },
    {
      "cell_type": "markdown",
      "metadata": {
        "id": "1_GlDdrqjr9-"
      },
      "source": [
        "**Ejemplo del Método de Newton para Sistemas de Ecuaciones No Lineales**\n",
        "\n",
        "Se tiene el siguiente sistema no lineal:\n",
        "\n",
        "$F=\n",
        "\\begin{bmatrix} \n",
        "3x_{1}-cos(x_{2}x_{3})-\\frac{1}{2}\\\\\n",
        "x_{1}^{2}-81(x_{2}+0.1)^{2}+sin(x_{3})+1.06\\\\\n",
        "e^{-x_{1}x_{2}}+20x_{3}+\\frac{10\\pi-3}{3}\n",
        "\\end{bmatrix}$\n",
        "\n",
        "Se halla su matriz jacobiana, mediante derivación parcial, la cual es:\n",
        "\n",
        "$J=\\begin{bmatrix} \n",
        "3 & x_{3}sin(x_{2}x_{3}) & x_{2}sin(x_{2}x_{3})\\\\\n",
        "2x_{1} & -162(x_{2}+0.1) & cos(x_{3})\\\\\n",
        "-x_{2}e^{-x_{1}x_{2}} & -x_{1}e^{-x_{1}x_{2}} & 20\n",
        "\\end{bmatrix}$\n",
        "\n",
        "Se ingresan estos valores en las funciones programadas *newton_system* y *jacobian* y luego se ejecuta la función *newton*, con $n=3$, $x=[0.1, 0.1, -0.1]^{T}$, $tol=1e-05$ y $maxiter=100$."
      ]
    },
    {
      "cell_type": "code",
      "metadata": {
        "id": "_8qKWNTmSbgl"
      },
      "source": [
        "def newton_system(x):\n",
        "  return np.array([(3*x[0])-np.cos(x[1]*x[2])-0.5,((x[0])**2)-81*((x[1]+0.1)**2)+np.sin(x[2])+1.06,np.exp(-x[0]*x[1])+20*x[2]+((10*np.pi-3)/3)])"
      ],
      "execution_count": null,
      "outputs": []
    },
    {
      "cell_type": "code",
      "metadata": {
        "id": "U_OBIVxl7-Tw"
      },
      "source": [
        "def jacobian(x):\n",
        "  return np.array([[3,x[2]*np.sin(x[1]*x[2]),x[1]*np.sin(x[1]*x[2])], [2*x[0],-162*(x[1]+0.1),np.cos(x[2])], [-x[1]*np.exp(-x[0]*x[1]),-x[0]*np.exp(-x[0]*x[1]),20]])"
      ],
      "execution_count": null,
      "outputs": []
    },
    {
      "cell_type": "code",
      "metadata": {
        "colab": {
          "base_uri": "https://localhost:8080/"
        },
        "id": "F_4zu2RBjkTi",
        "outputId": "bd474b1d-37c6-478c-d7f0-6702b1583243"
      },
      "source": [
        "newton(3,np.array([0.1,0.1,-0.1]),10**-5,100)"
      ],
      "execution_count": null,
      "outputs": [
        {
          "output_type": "execute_result",
          "data": {
            "text/plain": [
              "(array([ 5.00000000e-01,  3.35521889e-18, -5.23598776e-01]), 1e-05, 5)"
            ]
          },
          "metadata": {
            "tags": []
          },
          "execution_count": 111
        }
      ]
    },
    {
      "cell_type": "markdown",
      "metadata": {
        "id": "qnSH5oproR-J"
      },
      "source": [
        "La convergencia a la solución real fue bastante rápida, lo que explica la naturaleza cuadrática en casos donde la aproximación inicial es precisa."
      ]
    },
    {
      "cell_type": "markdown",
      "metadata": {
        "id": "lIDB8Rgca5k3"
      },
      "source": [
        "# Bibliografía:"
      ]
    }
  ]
}