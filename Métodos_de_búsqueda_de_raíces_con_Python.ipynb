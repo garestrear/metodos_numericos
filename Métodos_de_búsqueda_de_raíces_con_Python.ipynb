{
  "nbformat": 4,
  "nbformat_minor": 0,
  "metadata": {
    "colab": {
      "name": "Métodos de búsqueda de raíces con Python.ipynb",
      "provenance": [],
      "include_colab_link": true
    },
    "kernelspec": {
      "display_name": "Python 3",
      "name": "python3"
    }
  },
  "cells": [
    {
      "cell_type": "markdown",
      "metadata": {
        "id": "view-in-github",
        "colab_type": "text"
      },
      "source": [
        "<a href=\"https://colab.research.google.com/github/garestrear/metodos_numericos/blob/main/M%C3%A9todos_de_b%C3%BAsqueda_de_ra%C3%ADces_con_Python.ipynb\" target=\"_parent\"><img src=\"https://colab.research.google.com/assets/colab-badge.svg\" alt=\"Open In Colab\"/></a>"
      ]
    },
    {
      "cell_type": "markdown",
      "metadata": {
        "id": "dyYUc21ferU2"
      },
      "source": [
        "#<h1><center> UNIVERSIDAD NACIONAL DE COLOMBIA </center></h1>\n",
        "# <h1><center>SEDE MEDELLÍN</center></h1>\n",
        "# <h1><center>MÉTODOS NUMÉRICOS</center></h1>\n",
        "\n",
        "## CAPÍTULO 1. SOLUCIÓN NUMÉRICA DE ECUACIONES EN UNA VARIABLE (BÚSQUEDA DE RAÍCES)\n",
        "\n",
        "En este trabajo encontrarás los siguientes métodos de búsqueda de raíces:\n",
        "\n",
        "\n",
        "1.   La regla falsa\n",
        "2.   Método de \"trisección\" (modificación al método de bisección)\n",
        "3.   Método de la secante\n",
        "4.   Método de Newton acelerado\n",
        "5.   Método de Newton modificado\n",
        "\n",
        "En la primera parte se realiza la programación de los métodos y a continuación se realizan ejemplos de uso de los métodos.\n",
        "\n",
        "______________________________________________________________________\n",
        "Desarrollado por:  \n",
        "Javier Danilo Castro Faccetti  \n",
        "Marzo 2021.\n",
        "\n"
      ]
    },
    {
      "cell_type": "markdown",
      "metadata": {
        "id": "TAULlK9oPdkh"
      },
      "source": [
        "\n",
        "**Importación de Librerías**\n",
        "\n",
        "En este caso solo importaremos las librerías *NumPy* y *MatPlotLib*, con los apodos *np* y *plt*, respectivamente. De *NumPy* podemos utilizar las funciones matemáticas que incluirán generalmente los ejemplos que se puedan realizar con estos algoritmos, además de funciones como *linspace* o *array* que también son muy útiles. *MatPlotLib* ofrece muchas opciones de gráficos que serán muy útiles."
      ]
    },
    {
      "cell_type": "code",
      "metadata": {
        "id": "uQzFvN_bPTZc"
      },
      "source": [
        "import numpy as np\n",
        "from pylab import *\n",
        "import matplotlib.pyplot as plt"
      ],
      "execution_count": null,
      "outputs": []
    },
    {
      "cell_type": "markdown",
      "metadata": {
        "id": "_ujyWIp3O1df"
      },
      "source": [
        "**Método de la Regla Falsa (Regula Falsi)**\n",
        "\n",
        "Este método emplea las nociones teóricas de los métodos de bisección y de la secante para la búsqueda de la solución. Debe su nombre a que utiliza resultados falsos para obtener convergencia a un resultado verdadero. Tiene la ventaja de siempre converger a una solución del problema, pero también la desventaja de hacerlo lentamente y, en algunas ocasiones, con más error que otros métodos. Este algoritmo recibe como entrada los extremos del intervalo *a* y *b*, la tolerancia *tol* y el número máximo de iteraciones *maxiter*."
      ]
    },
    {
      "cell_type": "code",
      "metadata": {
        "id": "vyFn-8E2O0RG"
      },
      "source": [
        "def regulafalsi(a,b,tol,maxiter):\n",
        "  i=2\n",
        "  ya=funcion(a)\n",
        "  yb=funcion(b)\n",
        "  if ya*yb>0:\n",
        "    print(\"Intervalo erróneo. Ingrese nuevamente los datos.\")\n",
        "  else:\n",
        "    while i<maxiter:\n",
        "      c=b-((yb*(b-a))/(yb-ya))\n",
        "      if abs(c-b)<tol:\n",
        "        print(f\"La raíz buscada es {c}, con una tolerancia de {tol}. El número de iteraciones utilizadas fue de {i}.\")\n",
        "        break\n",
        "      i=i+1\n",
        "      y=funcion(c)\n",
        "      if y*yb<0:\n",
        "        a=b\n",
        "        ya=yb\n",
        "      b=c\n",
        "      yb=y"
      ],
      "execution_count": null,
      "outputs": []
    },
    {
      "cell_type": "markdown",
      "metadata": {
        "id": "SnmtJYIqP2cR"
      },
      "source": [
        "**Método de Trisección**\n",
        "\n",
        "El método de trisección, al igual que el método de bisección, es un caso particular de un método numérico que busca la raíz particionando el intervalo donde se encuentra esta en *n* subintervalos, que, en este caso, son 3. Con esto se busca una convergencia más rápida hacia la solución, puesto que hay una proporcionalidad inversa entre el número de subintervalos escogido y el número de iteraciones empleadas para encontrar la solución con la tolerancia especificada. El algoritmo tiene como entrada los extremos del intervalo *a* y *b*, la tolerancia *tol* y el número máximo de iteraciones *maxiter*."
      ]
    },
    {
      "cell_type": "code",
      "metadata": {
        "id": "-2AUn8TaPqvq"
      },
      "source": [
        "def triseccion(a,b,tol,maxiter):\n",
        "  i=1\n",
        "  ya=funcion(a)\n",
        "  yb=funcion(b)\n",
        "  if ya*yb>0:\n",
        "    print(\"Intervalo erróneo. Ingrese nuevamente los datos.\")\n",
        "  else:\n",
        "    while i<maxiter:\n",
        "      x=np.linspace(a,b,4)\n",
        "      for j in range(0,3,1):\n",
        "        if (funcion(x[j])*funcion(x[j+1]))<=0:\n",
        "          tempa=x[j]\n",
        "          tempb=x[j+1]\n",
        "      a=tempa\n",
        "      b=tempb\n",
        "      if abs(b-a)<tol:\n",
        "        break\n",
        "      i=i+1\n",
        "    c=a\n",
        "  print(f\"La raíz buscada es {c}, con una tolerancia de {tol}. El número de iteraciones utilizadas fue de {i}.\")"
      ],
      "execution_count": null,
      "outputs": []
    },
    {
      "cell_type": "markdown",
      "metadata": {
        "id": "fxLLeAJHRpKr"
      },
      "source": [
        "**Método de la Secante**\n",
        "\n",
        "El método de la secante es una reescritura del método de Newton que soluciona el problema de calcular la derivada -procedimiento que puede ser complicado en ciertos casos- usando su definición como límite y dos aproximaciones iniciales. Se llama \"método de la secante\" porque la solución a la que converge es la intersección con el eje de las abscisas de la recta que une a los puntos (p0,f(*p0*)) y (p1,f(*p1*)), donde *p0* y *p1* son las aproximaciones iniciales. Este algoritmo recibe como entrada las aproximaciones iniciales *p0* y *p1*, una tolerancia determinada *tol* y un número máximo de iteraciones *maxiter*."
      ]
    },
    {
      "cell_type": "code",
      "metadata": {
        "id": "jvhHJFUbRlef"
      },
      "source": [
        "def secante(p0,p1,tol,maxiter):\n",
        "  i=2\n",
        "  q0=funcion(p0)\n",
        "  q1=funcion(p1)\n",
        "  while i<=maxiter:\n",
        "    p=p1-q1*(p1-p0)/(q1-q0)\n",
        "    if abs(p-p1)<tol:\n",
        "      print(f\"La raíz buscada es {p}, con una tolerancia de {tol}. El número de iteraciones utilizadas fue de {i}.\")\n",
        "      break\n",
        "    i=i+1\n",
        "    p0=p1\n",
        "    q0=q1\n",
        "    p1=p\n",
        "    q1=funcion(p)"
      ],
      "execution_count": null,
      "outputs": []
    },
    {
      "cell_type": "markdown",
      "metadata": {
        "id": "QkANqEGDCojH"
      },
      "source": [
        "**Método de Newton Modificado**\n",
        "\n",
        "Este método utiliza una función auxiliar *u(x)=f(x)/f'(x)* para hallar las raíces de *f(x)* y garantizar que el método tenga una buena velocidad de convergencia y que incluya el cálculo de las raíces múltiples. El siguiente algoritmo incluye como entradas la aproximación inicial *p0*, la tolerancia para *p0 delta*, la tolerancia para la función *epsilon* y el número máximo de iteraciones *maxiter*.\n",
        "\n"
      ]
    },
    {
      "cell_type": "code",
      "metadata": {
        "id": "e26RBLIqVclP"
      },
      "source": [
        "def newtonmod(p0, delta, epsilon, maxiter):\n",
        "  for  i in range(1,(maxiter+1),1):\t\n",
        "    p1=p0-funcion(p0)*df(p0)/((df(p0))**2-funcion(p0)*d2f(p0))\n",
        "    err=abs(p1-p0)\n",
        "    relerr=2*err/(abs(p1)+delta)\n",
        "    p0=p1\n",
        "    y=funcion(p0)\n",
        "    if (err<delta) or (relerr<delta) or (abs(y)<epsilon):\n",
        "      break\n",
        "  print(f\"La raíz buscada es {p0}, con una tolerancia de {epsilon}. El número de iteraciones utilizadas fue de {i}.\")\n"
      ],
      "execution_count": null,
      "outputs": []
    },
    {
      "cell_type": "markdown",
      "metadata": {
        "id": "0gY23w0oCtzU"
      },
      "source": [
        "**Método de Newton Acelerado**\n",
        "\n",
        "Este método utiliza la multiplicidad de la función evaluada para aumentar las pendientes de las rectas tangentes utilizadas en el método original y así agilizar la convergencia del mismo. El siguiente algoritmo incluye como entradas la aproximación inicial *p0*, la multiplicidad *m*, la tolerancia para *p0* *delta*, la tolerancia para la función *epsilon* y el número máximo de iteraciones *maxiter*."
      ]
    },
    {
      "cell_type": "code",
      "metadata": {
        "id": "IzZ5F2aOCsyq"
      },
      "source": [
        "def newtonacel(p0,m,delta,epsilon,maxiter):\n",
        "  for i in range(1,(maxiter+1),1):\n",
        "    p1=p0-m*(funcion(p0)/df(p0))\n",
        "    err=abs(p1-p0)\n",
        "    relerr=2*err/(abs(p1)+delta)\n",
        "    p0=p1\n",
        "    y=funcion(p0)\n",
        "    if (err<delta) or (relerr<delta) or (abs(y)<epsilon):\n",
        "      break\n",
        "  print(f\"La raíz buscada es {p0}, con una tolerancia de {delta}. El número de iteraciones utilizadas fue de {i}.\")\n"
      ],
      "execution_count": null,
      "outputs": []
    },
    {
      "cell_type": "markdown",
      "metadata": {
        "id": "P_k0z0gapkWW"
      },
      "source": [
        "**Ejemplo (para Regula Falsi, Trisección, Secante y Newton Modificado)**\n",
        "\n",
        "Vamos a evaluar las raíces de la función f(x)=cos(x)-x. Primero, realizamos un gráfico de la función y evaluamos los intervalos donde podría tener raíces y la naturaleza de las mismas."
      ]
    },
    {
      "cell_type": "code",
      "metadata": {
        "colab": {
          "base_uri": "https://localhost:8080/",
          "height": 279
        },
        "id": "KFgKTdGLqN-1",
        "outputId": "7328b76c-6b93-4653-fdd7-a25e336e693e"
      },
      "source": [
        "x=arange(0,5,0.05) #Rango del gráfico y espaciamiento del mismo\n",
        "p,=plot(x,cos(x)-x)\n",
        "xlabel('X')\n",
        "ylabel('Y')\n",
        "plt.grid(b=True, which='major', color='#666666', linestyle='-')"
      ],
      "execution_count": null,
      "outputs": [
        {
          "output_type": "display_data",
          "data": {
            "image/png": "[encoded data removed]",
            "text/plain": [
              "<Figure size 432x288 with 1 Axes>"
            ]
          },
          "metadata": {
            "tags": []
          }
        }
      ]
    },
    {
      "cell_type": "markdown",
      "metadata": {
        "id": "KVSH1zITszqr"
      },
      "source": [
        "La función posee un cero entre x=0 y x=1.\n",
        "\n",
        "Primero, crearemos una función de Python que retorne el valor de la función, pues, de esta manera, están programados los algoritmos de estos cinco métodos. Luego, evaluaremos dicha con los métodos de regla falsa, secante, trisección y Newton modificado:"
      ]
    },
    {
      "cell_type": "code",
      "metadata": {
        "id": "kp3pCcJbszGW"
      },
      "source": [
        "#Definición de la función\n",
        "\n",
        "def funcion(x):\n",
        "  return np.cos(x)-x\n",
        "\n",
        "#Definición de la primera derivada de la función (se necesitará para el método de Newton modificado)\n",
        "def df(x):\n",
        "  return -(np.sin(x))-1\n",
        "\n",
        "#Definición de la segunda derivada de la función (se necesitará para el método de Newton modificado)\n",
        "\n",
        "def d2f(x):\n",
        "  return -(np.cos(x))"
      ],
      "execution_count": null,
      "outputs": []
    },
    {
      "cell_type": "markdown",
      "metadata": {
        "id": "OoLVHVwet_LS"
      },
      "source": [
        "Con las función definida y su primera y segunda derivada, procedemos a correr los algoritmos. Para la regla falsa y secante, utilizaremos *a*=0, *b*=1, *tol*=10e-8 y *maxiter*=100. Para el método de la secante, utilizaremos como aproximaciones iniciales *p0*=0.5 y *p1*=π/4 y conservaremos la tolerancia *tol* (como *epsilon*) y el número máximo de iteraciones *maxiter*. Para el método de Newton modificado, usaremos *delta*=*tol*(*epsilon*)=10e-8 y como aproximación inicial *p0*=0.5."
      ]
    },
    {
      "cell_type": "code",
      "metadata": {
        "colab": {
          "base_uri": "https://localhost:8080/"
        },
        "id": "oW1OUC3vuFOI",
        "outputId": "16387171-d232-416f-d5ce-42c8f5ee0937"
      },
      "source": [
        "regulafalsi(0,1,10**-8,100)"
      ],
      "execution_count": null,
      "outputs": [
        {
          "output_type": "stream",
          "text": [
            "La raíz buscada es 0.7390851331710708, con una tolerancia de 1e-08. El número de iteraciones utilizadas fue de 9.\n"
          ],
          "name": "stdout"
        }
      ]
    },
    {
      "cell_type": "code",
      "metadata": {
        "colab": {
          "base_uri": "https://localhost:8080/"
        },
        "id": "kGG91M2Kv3rc",
        "outputId": "9e34546e-9f63-4f31-fdc6-893591b2dcce"
      },
      "source": [
        "triseccion(0,1,10**-8,100)"
      ],
      "execution_count": null,
      "outputs": [
        {
          "output_type": "stream",
          "text": [
            "La raíz buscada es 0.7390851287681897, con una tolerancia de 1e-08. El número de iteraciones utilizadas fue de 17.\n"
          ],
          "name": "stdout"
        }
      ]
    },
    {
      "cell_type": "code",
      "metadata": {
        "colab": {
          "base_uri": "https://localhost:8080/"
        },
        "id": "6DJC-FUbv_kh",
        "outputId": "435c59ee-caf7-4dc6-e8d2-31327fe22fca"
      },
      "source": [
        "secante(0.5,(np.pi)/4,10**-8,100)"
      ],
      "execution_count": null,
      "outputs": [
        {
          "output_type": "stream",
          "text": [
            "La raíz buscada es 0.7390851332151607, con una tolerancia de 1e-08. El número de iteraciones utilizadas fue de 6.\n"
          ],
          "name": "stdout"
        }
      ]
    },
    {
      "cell_type": "code",
      "metadata": {
        "colab": {
          "base_uri": "https://localhost:8080/"
        },
        "id": "fdP82BnRxrmo",
        "outputId": "efc51859-44d0-41f7-fb19-dbaa939b73f2"
      },
      "source": [
        "newtonmod(0.5,10**-8,10**-8,100)"
      ],
      "execution_count": null,
      "outputs": [
        {
          "output_type": "stream",
          "text": [
            "La raíz buscada es 0.7390851321653727, con una tolerancia de 1e-08. El número de iteraciones utilizadas fue de 3.\n"
          ],
          "name": "stdout"
        }
      ]
    },
    {
      "cell_type": "markdown",
      "metadata": {
        "id": "RJB8C9Sm44Sg"
      },
      "source": [
        "Podemos concluir que el método que presenta mejores resultados y en menor tiempo es el método de Newton modificado. El método de trisección es el más lento, lo cual puede ser una desventaja, aunque su convergencia a la solución esté garantizada. Por otra parte, el método de la secante puede ser bastante recomendable, debido a que simplifica los cálculos de las derivadas y provee también resultados bastante buenos."
      ]
    },
    {
      "cell_type": "markdown",
      "metadata": {
        "id": "evP_42TFzL9l"
      },
      "source": [
        "**Ejemplo (Para Newton Acelerado y Newton Modificado)**\n",
        "\n",
        "Para el método de Newton acelerado, utilizaremos un ejemplo diferente. Como es un método que se vale de la multiplicidad de la raíz para acelerar su convergencia, es más práctico utilizarlo con una función que tenga al menos una raíz múltiple y evaluar su convergencia hacia ella.\n",
        "\n",
        "La función a evaluar será f(x= exp(x)-x-1. Esta función posee una raíz múltiple en 0, pues f(0)=f'(0)=0 y f''(0)=1. O sea, 0 es un cero de multiplicidad 2 de la función.\n",
        "\n",
        "Procedemos a definir la misma en una función de Python, así como también su derivada:"
      ]
    },
    {
      "cell_type": "code",
      "metadata": {
        "id": "RgZ-lVqy1Yh5"
      },
      "source": [
        "#Definición de la función\n",
        "def funcion(x):\n",
        "  return np.exp(x)-x-1\n",
        "\n",
        "#Definición de la primera derivada de la función\n",
        "def df(x):\n",
        "  return np.exp(x)-1"
      ],
      "execution_count": null,
      "outputs": []
    },
    {
      "cell_type": "markdown",
      "metadata": {
        "id": "DmzxmgLx1etw"
      },
      "source": [
        "Este es el gráfico de la misma:"
      ]
    },
    {
      "cell_type": "code",
      "metadata": {
        "colab": {
          "base_uri": "https://localhost:8080/",
          "height": 279
        },
        "id": "rXdjURJSzLRn",
        "outputId": "411b3446-22b0-44c1-8d5f-dfd4a4c1c91a"
      },
      "source": [
        "x=arange(-5,5,0.01) #Rango del gráfico y espaciamiento del mismo\n",
        "p,=plot(x,exp(x)-x-1)\n",
        "xlabel('X')\n",
        "ylabel('Y')\n",
        "plt.grid(b=True, which='major', color='#666666', linestyle='-')"
      ],
      "execution_count": null,
      "outputs": [
        {
          "output_type": "display_data",
          "data": {
            "image/png": "[encoded data removed]",
            "text/plain": [
              "<Figure size 432x288 with 1 Axes>"
            ]
          },
          "metadata": {
            "tags": []
          }
        }
      ]
    },
    {
      "cell_type": "markdown",
      "metadata": {
        "id": "gy7V6azF0iTt"
      },
      "source": [
        "Se puede intuir la naturaleza tangencial de la función en x=0 según el gráfico, lo cual concuerda con la definición de raíz múltiple (es lo que sucede gráficamente cuando existe una). Procedemos ahora a utilizar el método de Newton acelerado, con *p0*=1, *m*=2,*delta*=*epsilon*=10**-8 y *maxiter*=100."
      ]
    },
    {
      "cell_type": "code",
      "metadata": {
        "colab": {
          "base_uri": "https://localhost:8080/"
        },
        "id": "KRj-FOZn1DMY",
        "outputId": "f416bc36-9cd4-4c31-fd1a-a0b59a8c86a9"
      },
      "source": [
        "newtonacel(1,2,10**-8,10**-8,100)"
      ],
      "execution_count": null,
      "outputs": [
        {
          "output_type": "stream",
          "text": [
            "La raíz buscada es 3.342250383920123e-06, con una tolerancia de 1e-08. El número de iteraciones utilizadas fue de 3.\n"
          ],
          "name": "stdout"
        }
      ]
    },
    {
      "cell_type": "markdown",
      "metadata": {
        "id": "gwJ05m--5jdy"
      },
      "source": [
        "Realicemos una comparación entre los resultados de Newton acelerado y Newton modificado. Para correr el algoritmo de Newton modificado, es necesario definir la segunda derivada de la función ejemplo estudiada y utilizaremos las mismas variables de entrada de Newton acelerado."
      ]
    },
    {
      "cell_type": "code",
      "metadata": {
        "id": "GLvf6b-z7UTT"
      },
      "source": [
        "def d2f(x):\n",
        "  return np.exp(x)"
      ],
      "execution_count": null,
      "outputs": []
    },
    {
      "cell_type": "code",
      "metadata": {
        "colab": {
          "base_uri": "https://localhost:8080/"
        },
        "id": "px_wIR3f6f0J",
        "outputId": "d14eb17c-c062-46da-e43d-eed30dd26e51"
      },
      "source": [
        "newtonmod(1,10**-8,10**-8,100)"
      ],
      "execution_count": null,
      "outputs": [
        {
          "output_type": "stream",
          "text": [
            "La raíz buscada es -1.1890183808588653e-05, con una tolerancia de 1e-08. El número de iteraciones utilizadas fue de 3.\n"
          ],
          "name": "stdout"
        }
      ]
    },
    {
      "cell_type": "markdown",
      "metadata": {
        "id": "-VfQn9PGRxlJ"
      },
      "source": [
        "La velocidad de convergencia a la solución de ambos métodos es bastante similar y buena. La diferencia entre ambos resultados es mínimamente mejor en el caso del método de Newton acelerado, pero hay que tener en cuenta también que, al tratarse la solución del origen de coordenadas, la cercanía de la solución al mismo tanto del numerador como del denominador de la expresión iterada, genera una pérdida de dígitos significativos. Cada método tiene sus ventajas con respecto al otro: mientras que en uno se debe conocer la multiplicidad de la raíz, en el otro se deben calcular dos derivadas. Puede recomendarse el uso indistinto de cada uno de estos dos para este caso de raíces múltiples, y la elección depende principalmente de la facilidad del cálculo de los parámetros y funciones necesarias para cada uno."
      ]
    }
  ]
}