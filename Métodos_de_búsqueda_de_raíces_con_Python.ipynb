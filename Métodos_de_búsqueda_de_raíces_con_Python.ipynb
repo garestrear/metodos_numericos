{
  "nbformat": 4,
  "nbformat_minor": 0,
  "metadata": {
    "colab": {
      "name": "Métodos de búsqueda de raíces con Python.ipynb",
      "provenance": [],
      "collapsed_sections": [],
      "toc_visible": true,
      "include_colab_link": true
    },
    "kernelspec": {
      "display_name": "Python 3",
      "name": "python3"
    },
    "language_info": {
      "name": "python"
    }
  },
  "cells": [
    {
      "cell_type": "markdown",
      "metadata": {
        "id": "view-in-github",
        "colab_type": "text"
      },
      "source": [
        "<a href=\"https://colab.research.google.com/github/garestrear/metodos_numericos/blob/main/M%C3%A9todos_de_b%C3%BAsqueda_de_ra%C3%ADces_con_Python.ipynb\" target=\"_parent\"><img src=\"https://colab.research.google.com/assets/colab-badge.svg\" alt=\"Open In Colab\"/></a>"
      ]
    },
    {
      "cell_type": "markdown",
      "metadata": {
        "id": "u_ZkK3rC2GBW"
      },
      "source": [
        "#<h1><center> UNIVERSIDAD NACIONAL DE COLOMBIA </center></h1>\n",
        "#<h1><center>SEDE MEDELLÍN</center></h1>\n",
        "#<h1><center>MÉTODOS NUMÉRICOS</center></h1>\n",
        "##<h1><center>3006907</center></h1>\n",
        "\n",
        "\n",
        "\n",
        "---\n",
        "\n",
        "\n",
        "### Desarrollado por:\n",
        "Andrés Julián Londoño Gómez\n",
        "\n",
        "Marzo 2021\n",
        "\n",
        "\n",
        "---\n"
      ]
    },
    {
      "cell_type": "markdown",
      "metadata": {
        "id": "DyIZgdLBDZ9a"
      },
      "source": [
        "\n",
        "###<h1><center>CAPITULO 1: SOLUCIÓN NUMÉRICA DE ECUACIONES DE UNA VARIABLE</center></h1>\n",
        "Objetivo: Encontrar las soluciones de f(x)=0 usando métodos iterativos. \n",
        "\n",
        "Los métodos numéricos que se desarrollan en este capítulo son:\n",
        "\n",
        "1. Método de bisección\n",
        "2. Método iterativo de punto fijo\n",
        "3. Método de Newton y sus extenciones\n",
        "\n",
        "    3.1 Newton acelerado\n",
        "\n",
        "    3.2 Newton modificado\n"
      ]
    },
    {
      "cell_type": "markdown",
      "metadata": {
        "id": "oQllcEIY_qOA"
      },
      "source": [
        "\n",
        "\n",
        "---\n",
        "\n",
        "Primero importamos las librerias a usar en todo el desarrollo de éste cuaderno."
      ]
    },
    {
      "cell_type": "code",
      "metadata": {
        "id": "jA8B5BIE2ccs"
      },
      "source": [
        "import numpy as np\n",
        "import matplotlib.pyplot as plt"
      ],
      "execution_count": null,
      "outputs": []
    },
    {
      "cell_type": "markdown",
      "metadata": {
        "id": "KzpUcO9TG7C_"
      },
      "source": [
        "Ahora definamos una función que nos ayude a graficar nuestras funciones a lo largo del estudio de los métodos numéricos"
      ]
    },
    {
      "cell_type": "code",
      "metadata": {
        "id": "kEim5Y4bG4jx"
      },
      "source": [
        "# a,b es el intervalo donde voy a graficar mi funcion en el eje x\n",
        "#c es la cantidad de puntos que queremos graficar entre a y b\n",
        "# d, e es el intervalo donde voy a graficar mi funcion en el eje y\n",
        "def graficar(f,a=-10,b=10,c=100,d=-10,e=10,malla=1):\n",
        "    x = np.linspace(a,b,c)\n",
        "    y = f(x)\n",
        "    plt.plot(x,y)\n",
        "    if malla==1:\n",
        "        plt.grid()\n",
        "    plt.xlabel('x')\n",
        "    plt.ylabel('y')\n",
        "    plt.xlim(a,b)\n",
        "    plt.ylim(d,e)\n",
        "\n",
        "\n"
      ],
      "execution_count": null,
      "outputs": []
    },
    {
      "cell_type": "markdown",
      "metadata": {
        "id": "IJ4SnD0aMIYp"
      },
      "source": [
        "parece una función muy complicada de usar, con tantos parámetros, asi que mas adelante habra un \"tutorial\"."
      ]
    },
    {
      "cell_type": "markdown",
      "metadata": {
        "id": "bBm5VLomAPQZ"
      },
      "source": [
        "\n",
        "\n",
        "---\n",
        "####**1. Método de bisección**\n",
        "\n",
        "Este método se basa en el teorema del valor intermedio, el método consiste en dividir subintérvalos [ ai , bi ] a la mitad y luego localizar la mitad que contenga la raiz. El proceso se repite hasta cumplir los criterios de parada.\n",
        "\n"
      ]
    },
    {
      "cell_type": "code",
      "metadata": {
        "id": "wtncHs68JjOj"
      },
      "source": [
        "# Codigo método de bisección\n",
        "#     f : función, sera definida durante el ejemplo\n",
        "#     a : límite inferior del intérvalo\n",
        "#     b : límite superior del intérvalo\n",
        "#   tol : tolerancia \n",
        "#     k : contador de iteraciones\n",
        "# maxit : número máximo de iteraciones\n",
        "#     p : aproximación a la raiz\n",
        "\n",
        "def biseccion(f,a,b,tol):\n",
        "    # verificamos que en el intérvalo escogido exista una raiz\n",
        "    if f(a)*f(b) > 0:\n",
        "        print('No existe una raiz en este intérvalo, también es posible que la gráfica contenga varias raices en [ a, b ] de la '+\n",
        "            'forma 2n con n=0,1,2,...\\n'+ \n",
        "            'En otras palabras en [ a ,b ] existe un número par de raices de la función f. Modifica el intervalo [ a , b ]')\n",
        "    elif f(a)*f(b) < 0:\n",
        "        # por TVI podemos garantizar que existe una solucion a la ecuacion f(x)=0 en [a,b]\n",
        "        k = 0 \n",
        "        maxit = (np.log(abs(b-a)) - np.log(tol))/np.log( 2 ) + 1\n",
        "        while k <= maxit:  \n",
        "            p = ( a + b )/2 \n",
        "            \n",
        "            if f(p)*f(a) < 0:\n",
        "                b=p\n",
        "            elif f(p)*f(b) < 0:\n",
        "                a=p\n",
        "\n",
        "            error =abs( b - a )\n",
        "            k+=1\n",
        "\n",
        "            if f(p)==0:\n",
        "                break\n",
        "        \n",
        "            #criterios de parada\n",
        "            if abs(f(p)) < tol and error < tol :\n",
        "                break\n",
        "        \n",
        "        print('La raiz buscada p  : {0:^25.8}\\n    f(p) : {1:^47.8}\\nNúmero de iteraciones : {2:^10}\\nError : {3:^53.8}'.format(p,f(p),k,error))"
      ],
      "execution_count": null,
      "outputs": []
    },
    {
      "cell_type": "markdown",
      "metadata": {
        "id": "V2vwkD8PI8iF"
      },
      "source": [
        "[link text](https:// [link text](https://))  **Ejemplo para el método de bisección**\n",
        "\n",
        "tomado de: https://www.slideshare.net/WilliamCharlyCaldero/metodos-numericos-de-la-fisica\n",
        "\n",
        "![ejemplo_1_Quiz1.png](data:image/png;base64,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)"
      ]
    },
    {
      "cell_type": "markdown",
      "metadata": {
        "id": "6J4A4UNSOMbD"
      },
      "source": [
        "Para hallar la longitud del alambre, debemos encontrar las raices para F(L)"
      ]
    },
    {
      "cell_type": "markdown",
      "metadata": {
        "id": "pzPFRAMpO84S"
      },
      "source": [
        "Lo primero es definir la función f y graficarla para ratificar el intérvalo [ a , b ] "
      ]
    },
    {
      "cell_type": "code",
      "metadata": {
        "id": "W8EljvM0AQXO"
      },
      "source": [
        "# definir la función f\n",
        "def L(L):\n",
        "    return 2*L**2 + 4*L - 3"
      ],
      "execution_count": null,
      "outputs": []
    },
    {
      "cell_type": "markdown",
      "metadata": {
        "id": "kuU1XBGnP1Y5"
      },
      "source": [
        "Ahora el \"tutorial\" de nuestra función \"graficar\".\n",
        "\n",
        "Modificar los valores a,b,c,d,e de la función \"graficar\" da una visión mas precisa dependiendo de lo que se desee, aunque no es necesario, podemos trabajar con sus valores predeterminados. Por lo tanto, solo es obligatorio ingresar la función."
      ]
    },
    {
      "cell_type": "code",
      "metadata": {
        "colab": {
          "base_uri": "https://localhost:8080/",
          "height": 283
        },
        "id": "AKAN9pHVJBa-",
        "outputId": "adff5d2e-1ad5-48e3-a1ec-48409e51a794"
      },
      "source": [
        "graficar(L) # por favor python :)"
      ],
      "execution_count": null,
      "outputs": [
        {
          "output_type": "display_data",
          "data": {
            "image/png": "[encoded data removed]",
            "text/plain": [
              "<Figure size 432x288 with 1 Axes>"
            ]
          },
          "metadata": {
            "tags": [],
            "needs_background": "light"
          }
        }
      ]
    },
    {
      "cell_type": "markdown",
      "metadata": {
        "id": "CCM1lnZCNdCg"
      },
      "source": [
        "python es todo querido.\n",
        "\n",
        "Pero la gráfica está muy lejos, así que debemos decirle a python que limite el eje x a un intérvalo más pequeño. Para ello modificamos los valores de a y b"
      ]
    },
    {
      "cell_type": "code",
      "metadata": {
        "colab": {
          "base_uri": "https://localhost:8080/",
          "height": 283
        },
        "id": "okfqNuPEN9SP",
        "outputId": "5e8a0e7c-20de-4a1a-9fd6-e1add37fe21e"
      },
      "source": [
        "graficar(L,a=-5,b=2.5)"
      ],
      "execution_count": null,
      "outputs": [
        {
          "output_type": "display_data",
          "data": {
            "image/png": "[encoded data removed]",
            "text/plain": [
              "<Figure size 432x288 with 1 Axes>"
            ]
          },
          "metadata": {
            "tags": [],
            "needs_background": "light"
          }
        }
      ]
    },
    {
      "cell_type": "markdown",
      "metadata": {
        "id": "d35OUaatOf8w"
      },
      "source": [
        "La linea anterior es equivalente a:\n",
        "\n",
        "graficar(L , -5 , 2.5 )\n",
        "\n",
        "Pero si la escribes así, es necesario conservar el orden definido en la función.\n",
        "\n",
        "Ahora limitemos el intérvalo en el eje y, modificando d y e."
      ]
    },
    {
      "cell_type": "code",
      "metadata": {
        "colab": {
          "base_uri": "https://localhost:8080/",
          "height": 278
        },
        "id": "KsNk3hmKPDSa",
        "outputId": "1b19089b-46c3-4c29-d48d-e5e3c7f5c936"
      },
      "source": [
        "graficar(L,e=5,a=-4,d=-6,b=2,c=5)"
      ],
      "execution_count": null,
      "outputs": [
        {
          "output_type": "display_data",
          "data": {
            "image/png": "[encoded data removed]",
            "text/plain": [
              "<Figure size 432x288 with 1 Axes>"
            ]
          },
          "metadata": {
            "tags": [],
            "needs_background": "light"
          }
        }
      ]
    },
    {
      "cell_type": "markdown",
      "metadata": {
        "id": "LFL1uBrOPtRC"
      },
      "source": [
        "ups!! y que paso? . Pues c es muy pequeño probemos con un c=50.... probamos que llamando los argumentos de está forma el orden no importa."
      ]
    },
    {
      "cell_type": "code",
      "metadata": {
        "colab": {
          "base_uri": "https://localhost:8080/",
          "height": 278
        },
        "id": "7slx0gJkQSha",
        "outputId": "16577372-1462-4a77-d542-26a39abdbc2b"
      },
      "source": [
        "graficar(L,e=5,a=-4,d=-6,b=2,c=50)"
      ],
      "execution_count": null,
      "outputs": [
        {
          "output_type": "display_data",
          "data": {
            "image/png": "[encoded data removed]",
            "text/plain": [
              "<Figure size 432x288 with 1 Axes>"
            ]
          },
          "metadata": {
            "tags": [],
            "needs_background": "light"
          }
        }
      ]
    },
    {
      "cell_type": "markdown",
      "metadata": {
        "id": "4OH_RLObQol4"
      },
      "source": [
        "Perfecto : )\n",
        "\n",
        "Las demas funciones de \"graficar\" las analizaremos mas adelante.\n",
        "Ya sabemos gráficar en python, ahora a los métodos numéricos."
      ]
    },
    {
      "cell_type": "markdown",
      "metadata": {
        "id": "RK6BqwUGRitx"
      },
      "source": [
        "Se verifica la existencia de la raiz en el intérvalo [ a , b ]. Sólo falta elegir la tolerancia, para ello asumamos que los errores que son permisibles son de micrómetros, por lo tanto: tol = 0.000001\n",
        "\n",
        "Ahora a utilizar nuestro primer método numérico."
      ]
    },
    {
      "cell_type": "code",
      "metadata": {
        "colab": {
          "base_uri": "https://localhost:8080/"
        },
        "id": "WS0ocROC49dc",
        "outputId": "37ad72f7-e74f-472a-ea59-510d9b7496e1"
      },
      "source": [
        "tol = 1*10**-6\n",
        "biseccion(L,0,1,tol)"
      ],
      "execution_count": null,
      "outputs": [
        {
          "output_type": "stream",
          "text": [
            "La raiz buscada p  :        0.58113909        \n",
            "    f(p) :                  1.6291601e-06                 \n",
            "Número de iteraciones :     21    \n",
            "Error :                     4.7683716e-07                    \n"
          ],
          "name": "stdout"
        }
      ]
    },
    {
      "cell_type": "markdown",
      "metadata": {
        "id": "uEJPDs8zt4s0"
      },
      "source": [
        "\n",
        "\n",
        "---\n",
        "\n",
        "#### **2. Método de punto fijo**\n",
        "\n",
        "Un número p es un punto fijo para una función g si g(p)=p.\n",
        "\n",
        "El problema de punto fijo esta relacionado con la búsqueda de raices, de la siguiente manera:\n",
        "\n",
        "Dado un problema de búsqueda de raiz f(p)=0, podemos definir una función con punto fijo en p.\n",
        "\n"
      ]
    },
    {
      "cell_type": "code",
      "metadata": {
        "id": "rpZO-7iZuaqM"
      },
      "source": [
        "# f     : funcion\n",
        "# p0    : aproximacion  inicial\n",
        "# tol   : tolerancia\n",
        "# maxit : cantidad máxima de iteraciones\n",
        "def punto_fijo(p0,tol,maxit):\n",
        "    i = 0\n",
        "    while   i <= maxit:\n",
        "        p=fp(p0)\n",
        "        error=abs(p-p0)\n",
        "        if error < tol :\n",
        "            break\n",
        "        p0=p\n",
        "        i+=1\n",
        "    print('Aproximación',p0)\n",
        "    print('Error',error)\n",
        "    print('cant iteraciones',i)"
      ],
      "execution_count": null,
      "outputs": []
    },
    {
      "cell_type": "markdown",
      "metadata": {
        "id": "Y9T-Xr5s2n_7"
      },
      "source": [
        "Utilicemos el codigo con un ejemplo.\n",
        "\n",
        "Primero debemos comprobar si existe un punto fijo, asi que graficamos la funcion f(x) y la funcion y=x.\n",
        "\n",
        "Luego definimos la aproximación inicial, la tolerancia y la cantidad máxima de iteraciones.\n",
        "\n",
        "Malla en \"graficar\" es útil cuando vamos a gráficar 2 funciones."
      ]
    },
    {
      "cell_type": "code",
      "metadata": {
        "colab": {
          "base_uri": "https://localhost:8080/",
          "height": 283
        },
        "id": "xPS_coW-2tvz",
        "outputId": "2d26026a-c922-43e1-a37d-6d878de26410"
      },
      "source": [
        "def fp(z):\n",
        "    return 5/z**2 +2\n",
        "def x(x):\n",
        "    return x\n",
        "graficar(fp,d=0,malla=0) # si no agregamos el parámetro malla=0 no aparecen las grillas.\n",
        "graficar(x,d=0)"
      ],
      "execution_count": null,
      "outputs": [
        {
          "output_type": "display_data",
          "data": {
            "image/png": "[encoded data removed]",
            "text/plain": [
              "<Figure size 432x288 with 1 Axes>"
            ]
          },
          "metadata": {
            "tags": [],
            "needs_background": "light"
          }
        }
      ]
    },
    {
      "cell_type": "markdown",
      "metadata": {
        "id": "FDmr4XWX7FMf"
      },
      "source": [
        "Ahora estamos seguros de que existen puntos fijos, intentemos encontrar el punto fijo que se encuentra en el intervalo [ 2 , 4]"
      ]
    },
    {
      "cell_type": "code",
      "metadata": {
        "id": "rnjescn57hO_",
        "colab": {
          "base_uri": "https://localhost:8080/",
          "height": 333
        },
        "outputId": "aad16676-2e8b-4be0-dc9a-8723a2e65c7a"
      },
      "source": [
        "graficar(fp,malla=0) # si no agregamos el parámetro malla=0 no aparecen las grillas.\n",
        "graficar(x,d=0,e=4,a=0,b=5) \n",
        "p0 = 3\n",
        "tol = 1*10**(-5)\n",
        "maxit = 50\n",
        "punto_fijo(p0,tol,maxit)"
      ],
      "execution_count": null,
      "outputs": [
        {
          "output_type": "stream",
          "text": [
            "Aproximación 2.690653887327481\n",
            "Error 9.745023196394698e-06\n",
            "cant iteraciones 16\n"
          ],
          "name": "stdout"
        },
        {
          "output_type": "display_data",
          "data": {
            "image/png": "[encoded data removed]",
            "text/plain": [
              "<Figure size 432x288 with 1 Axes>"
            ]
          },
          "metadata": {
            "tags": [],
            "needs_background": "light"
          }
        }
      ]
    },
    {
      "cell_type": "markdown",
      "metadata": {
        "id": "isvAQa_hT7rx"
      },
      "source": [
        "Recuerda, siempre puedes limitar mas los intervalos de graficación. Intentalo."
      ]
    },
    {
      "cell_type": "markdown",
      "metadata": {
        "id": "jkDtMg_kUnvW"
      },
      "source": [
        "\n",
        "\n",
        "---\n",
        "\n",
        "#### **3. Método de Newton**\n",
        "\n",
        "\n",
        "\n",
        "\n",
        "\n"
      ]
    },
    {
      "cell_type": "markdown",
      "metadata": {
        "id": "G5MnhFdFzj2w"
      },
      "source": [
        "Esté método es uno de los mas poderosos para resolver problemas de encontrar raíces, y es sencillo entender como funciona. Iniciemos con una aproximación a la raiz P0,se evalúa en la función f y se traza una tangente a f en el punto ( P0 , f(P0) ), el punto de corte de la tangente con el eje x es nuestra nueva aproximación, solo resta repetir el proceso.\n",
        "\n",
        "Escribamos el código."
      ]
    },
    {
      "cell_type": "code",
      "metadata": {
        "id": "jyXdXfJt1-Dg"
      },
      "source": [
        "\n",
        "def newton(L,dL,P0,maxit,tol):\n",
        "    i=1\n",
        "    while i <= maxit:\n",
        "        p=P0 - L(P0)/dL(P0)\n",
        "        error = abs(p-P0)\n",
        "        if error < tol:\n",
        "            break\n",
        "        i+=1\n",
        "        P0=p\n",
        "    print('Aproximación',P0)\n",
        "    print('error',error)\n",
        "    print('Iteraciones',i)"
      ],
      "execution_count": null,
      "outputs": []
    },
    {
      "cell_type": "markdown",
      "metadata": {
        "id": "JRAqkZjPEZgh"
      },
      "source": [
        "Probemos nuestro código con la función L utilizado en el ejemplo de bisección."
      ]
    },
    {
      "cell_type": "code",
      "metadata": {
        "colab": {
          "base_uri": "https://localhost:8080/"
        },
        "id": "Cy69KN5lE_oW",
        "outputId": "04848f34-9dc5-4ea0-bdd6-2a4c2c91748b"
      },
      "source": [
        "def dL(L):\n",
        "    return 4*L + 4 \n",
        "tol=1*10**-6 # igual que en el ejemplo de bisección\n",
        "p=0.5\n",
        "newton(L,dL,p,20,tol)"
      ],
      "execution_count": null,
      "outputs": [
        {
          "output_type": "stream",
          "text": [
            "Aproximación 0.5811388300849211\n",
            "error 7.314149286230531e-13\n",
            "Iteraciones 4\n"
          ],
          "name": "stdout"
        }
      ]
    },
    {
      "cell_type": "markdown",
      "metadata": {
        "id": "cdPbNL0sJTXp"
      },
      "source": [
        "Mira el gran poder del método de Newton, solo 4 iteraciones.\n"
      ]
    },
    {
      "cell_type": "markdown",
      "metadata": {
        "id": "BGXQs293GBR-"
      },
      "source": [
        "#####**3.1 Método de Newton acelerado**\n",
        "\n",
        "Es muy parecido al Newton normalito, pero nos permite encontrar raíces múltiples mas rápidamente, pero es necesario conocer la múltiplicidad m de la raiz. \n",
        "\n",
        "# m > 1 ( m es un número entero).\n",
        "\n",
        "Para acelerar el método solo debemos multiplicar el segundo elemento de la ecuación de iteración del Newton normalito por m."
      ]
    },
    {
      "cell_type": "code",
      "metadata": {
        "id": "SmT7IFrLG461"
      },
      "source": [
        "\n",
        "def newton_acel(f, df,P0,m,maxit,tol):\n",
        "    i=1\n",
        "    while i <= maxit:\n",
        "        p=P0 - m*(f(P0)/df(P0)) # <<<-------- Aqui va m\n",
        "        error = abs(p-P0)\n",
        "        if error < tol:\n",
        "            break\n",
        "        i+=1\n",
        "        P0=p\n",
        "    print('Aproximación',P0)\n",
        "    print('error',error)\n",
        "    print('Iteraciones',i)"
      ],
      "execution_count": null,
      "outputs": []
    },
    {
      "cell_type": "markdown",
      "metadata": {
        "id": "2X3Iui5gH3qT"
      },
      "source": [
        "Es importante notar que los códigos de Newton normalito y el Newton acelerado se pueden convertir en uno solo de forma muy sencilla. Intentalo!!\n"
      ]
    },
    {
      "cell_type": "markdown",
      "metadata": {
        "id": "k8mFSNkML99I"
      },
      "source": [
        "Un ejemplo sencillo."
      ]
    },
    {
      "cell_type": "code",
      "metadata": {
        "colab": {
          "base_uri": "https://localhost:8080/"
        },
        "id": "KG3cxR0CMFCx",
        "outputId": "b9c70d32-8d3e-4feb-90e2-72df43f056b1"
      },
      "source": [
        "def z(x):\n",
        "    return x**2 -3.12*x + 2.43   # Función con raiz de múltiplicidad 2\n",
        "def dz(x):\n",
        "    return 2*(x-2)\n",
        "m=2\n",
        "maxit=200\n",
        "tol = 10**-6\n",
        "p0 = 1\n",
        "newton_acel(z,dz,p0,m,maxit,tol)"
      ],
      "execution_count": null,
      "outputs": [
        {
          "output_type": "stream",
          "text": [
            "Aproximación 1.4999962340365163\n",
            "error 9.038527928328932e-07\n",
            "Iteraciones 38\n"
          ],
          "name": "stdout"
        }
      ]
    },
    {
      "cell_type": "markdown",
      "metadata": {
        "id": "07AhHBwuMtvv"
      },
      "source": [
        "Comparemos el resultado con el newton normalito"
      ]
    },
    {
      "cell_type": "code",
      "metadata": {
        "colab": {
          "base_uri": "https://localhost:8080/"
        },
        "id": "UTTCg2YIMyvw",
        "outputId": "c6d26dce-a23e-4230-802d-6b8b4dcd9014"
      },
      "source": [
        "newton(z,dz,p0,maxit,tol)"
      ],
      "execution_count": null,
      "outputs": [
        {
          "output_type": "stream",
          "text": [
            "Aproximación 1.499992584699761\n",
            "error 8.898778176558153e-07\n",
            "Iteraciones 77\n"
          ],
          "name": "stdout"
        }
      ]
    },
    {
      "cell_type": "markdown",
      "metadata": {
        "id": "6E8DKC7WZtPp"
      },
      "source": [
        "La interaciones con el método acelerado se redujeron a la mitad para este ejemplo sencillito. grandioso."
      ]
    },
    {
      "cell_type": "markdown",
      "metadata": {
        "id": "1FA2uOtFaBvg"
      },
      "source": [
        "##### **3.2 Newton modificado**\n",
        "\n",
        "Este método también es una aceleración del newton normalito pero acá necesitamos la segunda derivada y no necesitamos la múltiplicidad.\n",
        "Este método tambien es útil cuando tengo raices múltiples. Aunque la ecuación de convergencia se **modifica**."
      ]
    },
    {
      "cell_type": "code",
      "metadata": {
        "id": "-QhPF8uUfjlC"
      },
      "source": [
        "def newton_mod(f,df,ddf,P0,maxit,tol):\n",
        "    i=1\n",
        "    while i <= maxit:\n",
        "        p= P0 -  (f(P0)*df(P0)) / ((df(P0))**2 - f(P0)*ddf(P0))\n",
        "        error = abs(p-P0)\n",
        "       \n",
        "        if error < tol:\n",
        "            break\n",
        "        i+=1\n",
        "        P0=p\n",
        "    print('Aproximación',P0)\n",
        "    print('error',error)\n",
        "    print('Iteraciones',i)\n",
        "   "
      ],
      "execution_count": null,
      "outputs": []
    },
    {
      "cell_type": "code",
      "metadata": {
        "colab": {
          "base_uri": "https://localhost:8080/"
        },
        "id": "iGIsl-yeQss5",
        "outputId": "4eeea5c6-841e-4dc4-85df-f64a1dcb1e90"
      },
      "source": [
        " # difinamos la segunda derivada\n",
        " def ddz(x):\n",
        "     return 2\n",
        "\n",
        "\n",
        "newton_mod(z,dz,ddz,p0,maxit,tol)"
      ],
      "execution_count": null,
      "outputs": [
        {
          "output_type": "stream",
          "text": [
            "Aproximación 1.4999924132604319\n",
            "error 9.104541494053819e-07\n",
            "Iteraciones 76\n"
          ],
          "name": "stdout"
        }
      ]
    },
    {
      "cell_type": "markdown",
      "metadata": {
        "id": "mjzQCw2twlYe"
      },
      "source": [
        "\n",
        "\n",
        "---\n",
        "\n",
        "---\n",
        "\n",
        "\n",
        "\n",
        "\n",
        "\n",
        "###<h1><center>CAPITULO 2: Métodos iterativos para resolver problemas de sistemas lineales y no lineales</center></h1>\n",
        "Encontrar las soluciones del sistema Ax=b \n",
        "\n",
        "\n",
        "1. Método de Jacobi\n",
        "2. Método de Gauss-Seidel\n",
        "3. Métodos de relajación (SOR)\n",
        "4. Método de Newton para sistemas no lineales\n",
        "\n",
        "\n"
      ]
    },
    {
      "cell_type": "markdown",
      "metadata": {
        "id": "xAEHnF-UyJy4"
      },
      "source": [
        "####**1. Método de Jacobi**\n"
      ]
    },
    {
      "cell_type": "code",
      "metadata": {
        "id": "cLA-DpHCyJI4"
      },
      "source": [
        "def jacobi(A,b,x0,tol,maxit=100):\n",
        "    # vamos a descomponer la matriz A para poder formar la matriz de iteraciones Tj\n",
        "    # y el vector asociado cj\n",
        "    D = np.diag(np.diag(A))     # D matriz diagonal\n",
        "    L = -np.triu(A,1)    # L negativo de la matriz triangular superior\n",
        "    U = -np.tril(A,-1)   # U negativo de la matriz triangular inferior\n",
        "    Tj= np.linalg.inv(D)@(L+U)\n",
        "    cj= np.linalg.inv(D)@b\n",
        "    i = 1 # i lleva el registro de las iteraciones\n",
        "    while i <= maxit:\n",
        "        x = Tj@x0 + cj  # matriz de iteraciones para el método de Jacobi\n",
        "        error  = np.linalg.norm(x-x0)\n",
        "        if error < tol:\n",
        "            break\n",
        "        i+=1\n",
        "        x0 = x\n",
        "\n",
        "    print('Aproximación :',x0)\n",
        "    print('b calculado  :',A@x0)\n",
        "    print('b inicial', b)\n",
        "    print('iteraciones', i)"
      ],
      "execution_count": null,
      "outputs": []
    },
    {
      "cell_type": "markdown",
      "metadata": {
        "id": "nTx2LvXM6--D"
      },
      "source": [
        "#### **2. Método de Gauss-Seidel**\n",
        "\n",
        "El código es muy similar al de jacobi, solo debemos modificar la matriz de iteraciones y el vector asociado."
      ]
    },
    {
      "cell_type": "code",
      "metadata": {
        "id": "qoI8g_BX6-XV"
      },
      "source": [
        "def gsel(A,b,x0,tol,maxit=100):\n",
        "    # vamos a descomponer la matriz A para poder formar la matriz de iteraciones Tj\n",
        "    # y el vector asociado cj\n",
        "    D = np.diag(np.diag(A))     # D matriz diagonal\n",
        "    L = -np.triu(A,1)    # L negativo de la matriz triangular superior\n",
        "    U = -np.tril(A,-1)   # U negativo de la matriz triangulas inferior\n",
        "    Tj= np.linalg.inv(D-L)@U\n",
        "    cj= np.linalg.inv(D-L)@b\n",
        "    i = 1 # i lleva el registro de las iteraciones\n",
        "    while i <= maxit:\n",
        "        x = Tj@x0 + cj  # matriz de iteraciones para el método de Gauss-Seidel\n",
        "        error  = np.linalg.norm(x-x0)\n",
        "        if error < tol:  \n",
        "            break\n",
        "        i+=1\n",
        "        x0 = x\n",
        "\n",
        "    print('Aproximación :',x0)\n",
        "    print('b calculado  :',A@x0)\n",
        "    print('b inicial', b)\n",
        "    print('iteraciones', i)"
      ],
      "execution_count": null,
      "outputs": []
    },
    {
      "cell_type": "markdown",
      "metadata": {
        "id": "HXOjhtaM9MOW"
      },
      "source": [
        "#### **3. Método SOR**\n",
        "\n",
        "Para este método introducimos un parámetro  0 < w < 2. w busca reducir la norma del vector de iteración (k+1).\n",
        "\n",
        "Cuando:\n",
        "\n",
        "0 < w < 1 --- método de subrelajación\n",
        "\n",
        "  w > 1   --- método de sobrerelajación\n",
        "\n",
        "  w = 1   --- método de Gauss-Seidel"
      ]
    },
    {
      "cell_type": "code",
      "metadata": {
        "id": "feNblklx-z7w"
      },
      "source": [
        "def sor(A,b,x0,tol,maxit=100,w=1):\n",
        "    # vamos a descomponer la matriz A para poder formar la matriz de iteraciones Tj\n",
        "    # y el vector asociado cj\n",
        "    D = np.diag(np.diag(A))     # D matriz diagonal\n",
        "    L = -np.triu(A,1)    # L negativo de la matriz triangular superior\n",
        "    U = -np.tril(A,-1)   # U negativo de la matriz triangulas inferior\n",
        "    Tj= np.linalg.inv(D-w*L)@((1-w)*D+w*U)\n",
        "    cj= w*np.linalg.inv(D-w*L)@b\n",
        "    i = 1 # i lleva el registro de las iteraciones\n",
        "    while i <= maxit:\n",
        "        x = Tj@x0 + cj  # matriz de iteraciones para el método de SOR\n",
        "        error  = np.linalg.norm(x-x0)\n",
        "        if error < tol:  \n",
        "            break\n",
        "        i+=1\n",
        "        x0 = x\n",
        "\n",
        "    print('Aproximación :',x0)\n",
        "    print('b calculado  :',A@x0)\n",
        "    print('b inicial', b)\n",
        "    print('iteraciones', i) "
      ],
      "execution_count": null,
      "outputs": []
    },
    {
      "cell_type": "markdown",
      "metadata": {
        "id": "PYtb2aEO39D3"
      },
      "source": [
        "Ejemplo"
      ]
    },
    {
      "cell_type": "code",
      "metadata": {
        "colab": {
          "base_uri": "https://localhost:8080/"
        },
        "id": "9JjHjEbc30h8",
        "outputId": "35f91616-cb02-4a15-8bbf-581a1d89ffc3"
      },
      "source": [
        "A = np.array([\n",
        "            [ 5 , 2 , 1 , 1 ],\n",
        "            [ 2 , 6 , 2 , 1 ],\n",
        "            [ 1 , 2 , 7 , 1 ],\n",
        "            [ 1 , 1 , 2 , 9 ]\n",
        "])\n",
        "\n",
        "b = np.array([ 29, 31, 26, 19])\n",
        "x0 = np.random.rand(4)\n",
        "tol = 10**-14\n",
        "jacobi(A,b,x0,tol,maxit=100)\n",
        "print()\n",
        "gsel(A,b,x0,tol,maxit=100)\n",
        "print()\n",
        "sor(A,b,x0,tol,maxit=100)"
      ],
      "execution_count": null,
      "outputs": [
        {
          "output_type": "stream",
          "text": [
            "Aproximación : [4.00924609 2.96372688 2.17283073 0.85348506]\n",
            "b calculado  : [29. 31. 26. 19.]\n",
            "b inicial [29 31 26 19]\n",
            "iteraciones 89\n",
            "\n",
            "Aproximación : [4.00924609 2.96372688 2.17283073 0.85348506]\n",
            "b calculado  : [29. 31. 26. 19.]\n",
            "b inicial [29 31 26 19]\n",
            "iteraciones 22\n",
            "\n",
            "Aproximación : [4.00924609 2.96372688 2.17283073 0.85348506]\n",
            "b calculado  : [29. 31. 26. 19.]\n",
            "b inicial [29 31 26 19]\n",
            "iteraciones 22\n"
          ],
          "name": "stdout"
        }
      ]
    },
    {
      "cell_type": "markdown",
      "metadata": {
        "id": "yiKHynRDC0Ly"
      },
      "source": [
        "En este caso el método de SOR y el de Gauss-Seidel generan la misma cantidad de iteraciones, intenta modificar el parámetro w."
      ]
    },
    {
      "cell_type": "markdown",
      "metadata": {
        "id": "52nkfAapESBE"
      },
      "source": [
        "#### **4. Método de Newton para sistemas no lineales**"
      ]
    },
    {
      "cell_type": "code",
      "metadata": {
        "id": "t18N2nRwCRar"
      },
      "source": [
        "#F = función\n",
        "#JF =jacobiano de la función\n",
        "#x = aproximación inicial\n",
        "# maxit = Cantidad máxima de iteraciones\n",
        "# tol = tolerancia\n",
        "\n",
        "def nolinsistem(F,JF,x0,maxit,tol):\n",
        "    i=1\n",
        "    while i<=maxit:\n",
        "        det = np.linalg.det(JF(x0))             # aseguremonos que la matriz sea invertible\n",
        "        if det != 0:\n",
        "            Jinv = np.linalg.inv(JF(x0))   # cálculo de la inversa\n",
        "            x=x0-(Jinv @ F(x0))            # ecuación de iteración\n",
        "            error=np.linalg.norm(x-x0)     \n",
        "            if error < tol:\n",
        "                break\n",
        "            i+=1\n",
        "            x0=x\n",
        "\n",
        "        elif i==0:        # si la matriz no es invertible\n",
        "            print('La matriz no es invertible')\n",
        "            print('Aproximación :',x0)\n",
        "            print('Iteraciones', i)\n",
        "            print('Error', error) \n",
        "            break\n",
        "\n",
        "    print('Aproximación :',x0)\n",
        "    print('Iteraciones', i)\n",
        "    print('Error', error)"
      ],
      "execution_count": null,
      "outputs": []
    },
    {
      "cell_type": "markdown",
      "metadata": {
        "id": "Eh6NAFeuSb3v"
      },
      "source": [
        "Ejemplo"
      ]
    },
    {
      "cell_type": "code",
      "metadata": {
        "colab": {
          "base_uri": "https://localhost:8080/"
        },
        "id": "KKpmhidaPQlz",
        "outputId": "d76f8872-7647-4905-d16c-61b306f655ec"
      },
      "source": [
        "#definamos la función y el jacobiano\n",
        "def F(x):\n",
        "    f1=x[0]**2+x[1]**2-1\n",
        "    f2=4*x[0]**2/9+4*x[1]**2-1\n",
        "    return np.array([f1,f2])\n",
        "\n",
        "def JF(x):\n",
        "    return np.array([[2*x[0] , 2*x[1]], [8*x[0]/9 , 8*x[1]]])\n",
        "\n",
        "x=([1,1])\n",
        "maxit=100\n",
        "tol=10**-15\n",
        "nolinsistem(F,JF,x,maxit,tol)"
      ],
      "execution_count": null,
      "outputs": [
        {
          "output_type": "stream",
          "text": [
            "Aproximación : [0.91855865 0.39528471]\n",
            "Iteraciones 7\n",
            "Error 5.551115123125783e-17\n"
          ],
          "name": "stdout"
        }
      ]
    }
  ]
}